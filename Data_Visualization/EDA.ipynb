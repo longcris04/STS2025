{
 "cells": [
  {
   "cell_type": "code",
   "execution_count": 2,
   "id": "eb454124",
   "metadata": {},
   "outputs": [],
   "source": [
    "import os\n",
    "import numpy as np\n",
    "import matplotlib.pyplot as plt\n",
    "import nibabel as nib"
   ]
  },
  {
   "cell_type": "markdown",
   "id": "d33f62b3",
   "metadata": {},
   "source": [
    "### Read 3D Data"
   ]
  },
  {
   "cell_type": "code",
   "execution_count": 2,
   "id": "09836967",
   "metadata": {},
   "outputs": [],
   "source": [
    "data_path = \"./../../../Datasets/MICCAI-Challenge-STSR2025-Task1/\"\n",
    "train_labeled_path = data_path + \"Train-Labeled/\"\n",
    "train_unlabeled_path = data_path + \"Train-Unlabeled/\"\n",
    "val_path = data_path + \"Validation/\""
   ]
  },
  {
   "cell_type": "code",
   "execution_count": 3,
   "id": "c4be04f2",
   "metadata": {},
   "outputs": [],
   "source": [
    "img_path = train_labeled_path + \"Images/\"\n",
    "mask_path = train_labeled_path + \"Masks/\""
   ]
  },
  {
   "cell_type": "code",
   "execution_count": 4,
   "id": "582c1460",
   "metadata": {},
   "outputs": [
    {
     "data": {
      "text/plain": [
       "['STS25_Train_Labeled_0002.nii.gz',\n",
       " 'STS25_Train_Labeled_0021.nii.gz',\n",
       " 'STS25_Train_Labeled_0030.nii.gz',\n",
       " 'STS25_Train_Labeled_0017.nii.gz',\n",
       " 'STS25_Train_Labeled_0011.nii.gz',\n",
       " 'STS25_Train_Labeled_0007.nii.gz',\n",
       " 'STS25_Train_Labeled_0019.nii.gz',\n",
       " 'STS25_Train_Labeled_0018.nii.gz',\n",
       " 'STS25_Train_Labeled_0022.nii.gz',\n",
       " 'STS25_Train_Labeled_0024.nii.gz',\n",
       " 'STS25_Train_Labeled_0004.nii.gz',\n",
       " 'STS25_Train_Labeled_0025.nii.gz',\n",
       " 'STS25_Train_Labeled_0003.nii.gz',\n",
       " 'STS25_Train_Labeled_0001.nii.gz',\n",
       " 'STS25_Train_Labeled_0023.nii.gz',\n",
       " 'STS25_Train_Labeled_0008.nii.gz',\n",
       " 'STS25_Train_Labeled_0005.nii.gz',\n",
       " 'STS25_Train_Labeled_0009.nii.gz',\n",
       " 'STS25_Train_Labeled_0012.nii.gz',\n",
       " 'STS25_Train_Labeled_0016.nii.gz',\n",
       " 'STS25_Train_Labeled_0006.nii.gz',\n",
       " 'STS25_Train_Labeled_0013.nii.gz',\n",
       " 'STS25_Train_Labeled_0014.nii.gz',\n",
       " 'STS25_Train_Labeled_0028.nii.gz',\n",
       " 'STS25_Train_Labeled_0010.nii.gz',\n",
       " 'STS25_Train_Labeled_0015.nii.gz',\n",
       " 'STS25_Train_Labeled_0029.nii.gz',\n",
       " 'STS25_Train_Labeled_0027.nii.gz',\n",
       " 'STS25_Train_Labeled_0020.nii.gz',\n",
       " 'STS25_Train_Labeled_0026.nii.gz']"
      ]
     },
     "execution_count": 4,
     "metadata": {},
     "output_type": "execute_result"
    }
   ],
   "source": [
    "os.listdir(img_path)"
   ]
  },
  {
   "cell_type": "code",
   "execution_count": null,
   "id": "f505c02a",
   "metadata": {},
   "outputs": [
    {
     "name": "stdout",
     "output_type": "stream",
     "text": [
      "<class 'numpy.ndarray'> (266, 266, 200) float64\n",
      "<class 'numpy.ndarray'> (266, 266, 200) float64\n",
      "----------------\n",
      "[-1000.  -999.  -998. ...  3080.  3083.  3095.]\n",
      "[0. 1. 2. 4. 5. 7. 8. 9.]\n",
      "<class 'numpy.ndarray'> (266, 266, 200) float64\n",
      "<class 'numpy.ndarray'> (266, 266, 200) float64\n",
      "----------------\n",
      "[-1000.  -999.  -998. ...  3093.  3094.  3095.]\n",
      "[ 0.  1.  2.  4.  7.  9. 12.]\n",
      "<class 'numpy.ndarray'> (266, 266, 200) float64\n",
      "<class 'numpy.ndarray'> (266, 266, 200) float64\n",
      "----------------\n",
      "[-1000.  -999.  -998. ...  3093.  3094.  3095.]\n",
      "[0. 1. 2. 4. 5. 6. 7. 8. 9.]\n",
      "<class 'numpy.ndarray'> (640, 640, 448) float64\n",
      "<class 'numpy.ndarray'> (640, 640, 448) float64\n",
      "----------------\n",
      "[-1000.  -999.  -998. ...  6555.  6563.  6683.]\n",
      "[ 0.  1.  2.  4.  5.  6.  7.  8.  9. 12.]\n",
      "<class 'numpy.ndarray'> (536, 536, 440) float64\n",
      "<class 'numpy.ndarray'> (536, 536, 440) float64\n",
      "----------------\n",
      "[-1000.  -999.  -998. ...  4058.  4069.  4074.]\n",
      "[0. 1. 2. 4. 5. 6. 7. 8. 9.]\n",
      "<class 'numpy.ndarray'> (536, 536, 440) float64\n",
      "<class 'numpy.ndarray'> (536, 536, 440) float64\n",
      "----------------\n",
      "[-1000.  -999.  -998. ...  5872.  5945.  5965.]\n",
      "[0. 1. 2. 4. 5. 6. 7. 8. 9.]\n",
      "<class 'numpy.ndarray'> (640, 640, 528) float64\n"
     ]
    },
    {
     "ename": "KeyboardInterrupt",
     "evalue": "",
     "output_type": "error",
     "traceback": [
      "\u001b[31m---------------------------------------------------------------------------\u001b[39m",
      "\u001b[31mKeyboardInterrupt\u001b[39m                         Traceback (most recent call last)",
      "\u001b[36mCell\u001b[39m\u001b[36m \u001b[39m\u001b[32mIn[10]\u001b[39m\u001b[32m, line 26\u001b[39m\n\u001b[32m     23\u001b[39m mask1_path = mask_path + \u001b[33mf\u001b[39m\u001b[33m\"\u001b[39m\u001b[33mSTS25_Train_Labeled_00\u001b[39m\u001b[38;5;132;01m{\u001b[39;00m\u001b[38;5;28mid\u001b[39m\u001b[38;5;132;01m}\u001b[39;00m\u001b[33m_Masks.nii.gz\u001b[39m\u001b[33m\"\u001b[39m\n\u001b[32m     25\u001b[39m mask1_nii = nib.load(mask1_path)\n\u001b[32m---> \u001b[39m\u001b[32m26\u001b[39m mask1_data = \u001b[43mmask1_nii\u001b[49m\u001b[43m.\u001b[49m\u001b[43mget_fdata\u001b[49m\u001b[43m(\u001b[49m\u001b[43m)\u001b[49m\n\u001b[32m     27\u001b[39m \u001b[38;5;28mprint\u001b[39m(\u001b[38;5;28mtype\u001b[39m(mask1_data), mask1_data.shape, mask1_data.dtype)\n\u001b[32m     28\u001b[39m \u001b[38;5;28mprint\u001b[39m(\u001b[33m\"\u001b[39m\u001b[33m----------------\u001b[39m\u001b[33m\"\u001b[39m)\n",
      "\u001b[36mFile \u001b[39m\u001b[32m~/anaconda3/envs/STS/lib/python3.11/site-packages/nibabel/dataobj_images.py:374\u001b[39m, in \u001b[36mDataobjImage.get_fdata\u001b[39m\u001b[34m(self, caching, dtype)\u001b[39m\n\u001b[32m    370\u001b[39m         \u001b[38;5;28;01mreturn\u001b[39;00m \u001b[38;5;28mself\u001b[39m._fdata_cache\n\u001b[32m    371\u001b[39m \u001b[38;5;66;03m# Always return requested data type\u001b[39;00m\n\u001b[32m    372\u001b[39m \u001b[38;5;66;03m# For array proxies, will attempt to confine data array to dtype\u001b[39;00m\n\u001b[32m    373\u001b[39m \u001b[38;5;66;03m# during scaling\u001b[39;00m\n\u001b[32m--> \u001b[39m\u001b[32m374\u001b[39m data = np.asanyarray(\u001b[38;5;28mself\u001b[39m._dataobj, dtype=dtype)\n\u001b[32m    375\u001b[39m \u001b[38;5;28;01mif\u001b[39;00m caching == \u001b[33m'\u001b[39m\u001b[33mfill\u001b[39m\u001b[33m'\u001b[39m:\n\u001b[32m    376\u001b[39m     \u001b[38;5;28mself\u001b[39m._fdata_cache = data\n",
      "\u001b[36mFile \u001b[39m\u001b[32m~/anaconda3/envs/STS/lib/python3.11/site-packages/nibabel/arrayproxy.py:454\u001b[39m, in \u001b[36mArrayProxy.__array__\u001b[39m\u001b[34m(self, dtype)\u001b[39m\n\u001b[32m    433\u001b[39m \u001b[38;5;28;01mdef\u001b[39;00m\u001b[38;5;250m \u001b[39m\u001b[34m__array__\u001b[39m(\u001b[38;5;28mself\u001b[39m, dtype=\u001b[38;5;28;01mNone\u001b[39;00m):\n\u001b[32m    434\u001b[39m \u001b[38;5;250m    \u001b[39m\u001b[33;03m\"\"\"Read data from file and apply scaling, casting to ``dtype``\u001b[39;00m\n\u001b[32m    435\u001b[39m \n\u001b[32m    436\u001b[39m \u001b[33;03m    If ``dtype`` is unspecified, the dtype of the returned array is the\u001b[39;00m\n\u001b[32m   (...)\u001b[39m\u001b[32m    452\u001b[39m \u001b[33;03m        Scaled image data with type `dtype`.\u001b[39;00m\n\u001b[32m    453\u001b[39m \u001b[33;03m    \"\"\"\u001b[39;00m\n\u001b[32m--> \u001b[39m\u001b[32m454\u001b[39m     arr = \u001b[38;5;28;43mself\u001b[39;49m\u001b[43m.\u001b[49m\u001b[43m_get_scaled\u001b[49m\u001b[43m(\u001b[49m\u001b[43mdtype\u001b[49m\u001b[43m=\u001b[49m\u001b[43mdtype\u001b[49m\u001b[43m,\u001b[49m\u001b[43m \u001b[49m\u001b[43mslicer\u001b[49m\u001b[43m=\u001b[49m\u001b[43m(\u001b[49m\u001b[43m)\u001b[49m\u001b[43m)\u001b[49m\n\u001b[32m    455\u001b[39m     \u001b[38;5;28;01mif\u001b[39;00m dtype \u001b[38;5;129;01mis\u001b[39;00m \u001b[38;5;129;01mnot\u001b[39;00m \u001b[38;5;28;01mNone\u001b[39;00m:\n\u001b[32m    456\u001b[39m         arr = arr.astype(dtype, copy=\u001b[38;5;28;01mFalse\u001b[39;00m)\n",
      "\u001b[36mFile \u001b[39m\u001b[32m~/anaconda3/envs/STS/lib/python3.11/site-packages/nibabel/arrayproxy.py:421\u001b[39m, in \u001b[36mArrayProxy._get_scaled\u001b[39m\u001b[34m(self, dtype, slicer)\u001b[39m\n\u001b[32m    419\u001b[39m     scl_inter = scl_inter.astype(use_dtype)\n\u001b[32m    420\u001b[39m \u001b[38;5;66;03m# Read array and upcast as necessary for big slopes, intercepts\u001b[39;00m\n\u001b[32m--> \u001b[39m\u001b[32m421\u001b[39m scaled = apply_read_scaling(\u001b[38;5;28;43mself\u001b[39;49m\u001b[43m.\u001b[49m\u001b[43m_get_unscaled\u001b[49m\u001b[43m(\u001b[49m\u001b[43mslicer\u001b[49m\u001b[43m=\u001b[49m\u001b[43mslicer\u001b[49m\u001b[43m)\u001b[49m, scl_slope, scl_inter)\n\u001b[32m    422\u001b[39m \u001b[38;5;28;01mif\u001b[39;00m dtype \u001b[38;5;129;01mis\u001b[39;00m \u001b[38;5;129;01mnot\u001b[39;00m \u001b[38;5;28;01mNone\u001b[39;00m:\n\u001b[32m    423\u001b[39m     scaled = scaled.astype(np.promote_types(scaled.dtype, dtype), copy=\u001b[38;5;28;01mFalse\u001b[39;00m)\n",
      "\u001b[36mFile \u001b[39m\u001b[32m~/anaconda3/envs/STS/lib/python3.11/site-packages/nibabel/arrayproxy.py:391\u001b[39m, in \u001b[36mArrayProxy._get_unscaled\u001b[39m\u001b[34m(self, slicer)\u001b[39m\n\u001b[32m    387\u001b[39m \u001b[38;5;28;01mif\u001b[39;00m canonical_slicers(slicer, \u001b[38;5;28mself\u001b[39m._shape, \u001b[38;5;28;01mFalse\u001b[39;00m) == canonical_slicers(\n\u001b[32m    388\u001b[39m     (), \u001b[38;5;28mself\u001b[39m._shape, \u001b[38;5;28;01mFalse\u001b[39;00m\n\u001b[32m    389\u001b[39m ):\n\u001b[32m    390\u001b[39m     \u001b[38;5;28;01mwith\u001b[39;00m \u001b[38;5;28mself\u001b[39m._get_fileobj() \u001b[38;5;28;01mas\u001b[39;00m fileobj, \u001b[38;5;28mself\u001b[39m._lock:\n\u001b[32m--> \u001b[39m\u001b[32m391\u001b[39m         \u001b[38;5;28;01mreturn\u001b[39;00m \u001b[43marray_from_file\u001b[49m\u001b[43m(\u001b[49m\n\u001b[32m    392\u001b[39m \u001b[43m            \u001b[49m\u001b[38;5;28;43mself\u001b[39;49m\u001b[43m.\u001b[49m\u001b[43m_shape\u001b[49m\u001b[43m,\u001b[49m\n\u001b[32m    393\u001b[39m \u001b[43m            \u001b[49m\u001b[38;5;28;43mself\u001b[39;49m\u001b[43m.\u001b[49m\u001b[43m_dtype\u001b[49m\u001b[43m,\u001b[49m\n\u001b[32m    394\u001b[39m \u001b[43m            \u001b[49m\u001b[43mfileobj\u001b[49m\u001b[43m,\u001b[49m\n\u001b[32m    395\u001b[39m \u001b[43m            \u001b[49m\u001b[43moffset\u001b[49m\u001b[43m=\u001b[49m\u001b[38;5;28;43mself\u001b[39;49m\u001b[43m.\u001b[49m\u001b[43m_offset\u001b[49m\u001b[43m,\u001b[49m\n\u001b[32m    396\u001b[39m \u001b[43m            \u001b[49m\u001b[43morder\u001b[49m\u001b[43m=\u001b[49m\u001b[38;5;28;43mself\u001b[39;49m\u001b[43m.\u001b[49m\u001b[43morder\u001b[49m\u001b[43m,\u001b[49m\n\u001b[32m    397\u001b[39m \u001b[43m            \u001b[49m\u001b[43mmmap\u001b[49m\u001b[43m=\u001b[49m\u001b[38;5;28;43mself\u001b[39;49m\u001b[43m.\u001b[49m\u001b[43m_mmap\u001b[49m\u001b[43m,\u001b[49m\n\u001b[32m    398\u001b[39m \u001b[43m        \u001b[49m\u001b[43m)\u001b[49m\n\u001b[32m    399\u001b[39m \u001b[38;5;28;01mwith\u001b[39;00m \u001b[38;5;28mself\u001b[39m._get_fileobj() \u001b[38;5;28;01mas\u001b[39;00m fileobj:\n\u001b[32m    400\u001b[39m     \u001b[38;5;28;01mreturn\u001b[39;00m fileslice(\n\u001b[32m    401\u001b[39m         fileobj,\n\u001b[32m    402\u001b[39m         slicer,\n\u001b[32m   (...)\u001b[39m\u001b[32m    407\u001b[39m         lock=\u001b[38;5;28mself\u001b[39m._lock,\n\u001b[32m    408\u001b[39m     )\n",
      "\u001b[36mFile \u001b[39m\u001b[32m~/anaconda3/envs/STS/lib/python3.11/site-packages/nibabel/volumeutils.py:467\u001b[39m, in \u001b[36marray_from_file\u001b[39m\u001b[34m(shape, in_dtype, infile, offset, order, mmap)\u001b[39m\n\u001b[32m    465\u001b[39m \u001b[38;5;28;01mif\u001b[39;00m \u001b[38;5;28mhasattr\u001b[39m(infile, \u001b[33m'\u001b[39m\u001b[33mreadinto\u001b[39m\u001b[33m'\u001b[39m):\n\u001b[32m    466\u001b[39m     data_bytes = \u001b[38;5;28mbytearray\u001b[39m(n_bytes)\n\u001b[32m--> \u001b[39m\u001b[32m467\u001b[39m     n_read = \u001b[43minfile\u001b[49m\u001b[43m.\u001b[49m\u001b[43mreadinto\u001b[49m\u001b[43m(\u001b[49m\u001b[43mdata_bytes\u001b[49m\u001b[43m)\u001b[49m\n\u001b[32m    468\u001b[39m     needs_copy = \u001b[38;5;28;01mFalse\u001b[39;00m\n\u001b[32m    469\u001b[39m \u001b[38;5;28;01melse\u001b[39;00m:\n",
      "\u001b[36mFile \u001b[39m\u001b[32m~/anaconda3/envs/STS/lib/python3.11/gzip.py:301\u001b[39m, in \u001b[36mGzipFile.read\u001b[39m\u001b[34m(self, size)\u001b[39m\n\u001b[32m    299\u001b[39m     \u001b[38;5;28;01mimport\u001b[39;00m\u001b[38;5;250m \u001b[39m\u001b[34;01merrno\u001b[39;00m\n\u001b[32m    300\u001b[39m     \u001b[38;5;28;01mraise\u001b[39;00m \u001b[38;5;167;01mOSError\u001b[39;00m(errno.EBADF, \u001b[33m\"\u001b[39m\u001b[33mread() on write-only GzipFile object\u001b[39m\u001b[33m\"\u001b[39m)\n\u001b[32m--> \u001b[39m\u001b[32m301\u001b[39m \u001b[38;5;28;01mreturn\u001b[39;00m \u001b[38;5;28mself\u001b[39m._buffer.read(size)\n",
      "\u001b[36mFile \u001b[39m\u001b[32m~/anaconda3/envs/STS/lib/python3.11/_compression.py:68\u001b[39m, in \u001b[36mDecompressReader.readinto\u001b[39m\u001b[34m(self, b)\u001b[39m\n\u001b[32m     66\u001b[39m \u001b[38;5;28;01mdef\u001b[39;00m\u001b[38;5;250m \u001b[39m\u001b[34mreadinto\u001b[39m(\u001b[38;5;28mself\u001b[39m, b):\n\u001b[32m     67\u001b[39m     \u001b[38;5;28;01mwith\u001b[39;00m \u001b[38;5;28mmemoryview\u001b[39m(b) \u001b[38;5;28;01mas\u001b[39;00m view, view.cast(\u001b[33m\"\u001b[39m\u001b[33mB\u001b[39m\u001b[33m\"\u001b[39m) \u001b[38;5;28;01mas\u001b[39;00m byte_view:\n\u001b[32m---> \u001b[39m\u001b[32m68\u001b[39m         data = \u001b[38;5;28;43mself\u001b[39;49m\u001b[43m.\u001b[49m\u001b[43mread\u001b[49m\u001b[43m(\u001b[49m\u001b[38;5;28;43mlen\u001b[39;49m\u001b[43m(\u001b[49m\u001b[43mbyte_view\u001b[49m\u001b[43m)\u001b[49m\u001b[43m)\u001b[49m\n\u001b[32m     69\u001b[39m         byte_view[:\u001b[38;5;28mlen\u001b[39m(data)] = data\n\u001b[32m     70\u001b[39m     \u001b[38;5;28;01mreturn\u001b[39;00m \u001b[38;5;28mlen\u001b[39m(data)\n",
      "\u001b[36mFile \u001b[39m\u001b[32m~/anaconda3/envs/STS/lib/python3.11/gzip.py:521\u001b[39m, in \u001b[36m_GzipReader.read\u001b[39m\u001b[34m(self, size)\u001b[39m\n\u001b[32m    517\u001b[39m     \u001b[38;5;28;01mif\u001b[39;00m buf == \u001b[33mb\u001b[39m\u001b[33m\"\u001b[39m\u001b[33m\"\u001b[39m:\n\u001b[32m    518\u001b[39m         \u001b[38;5;28;01mraise\u001b[39;00m \u001b[38;5;167;01mEOFError\u001b[39;00m(\u001b[33m\"\u001b[39m\u001b[33mCompressed file ended before the \u001b[39m\u001b[33m\"\u001b[39m\n\u001b[32m    519\u001b[39m                        \u001b[33m\"\u001b[39m\u001b[33mend-of-stream marker was reached\u001b[39m\u001b[33m\"\u001b[39m)\n\u001b[32m--> \u001b[39m\u001b[32m521\u001b[39m \u001b[38;5;28;43mself\u001b[39;49m\u001b[43m.\u001b[49m\u001b[43m_add_read_data\u001b[49m\u001b[43m(\u001b[49m\u001b[43m \u001b[49m\u001b[43muncompress\u001b[49m\u001b[43m \u001b[49m\u001b[43m)\u001b[49m\n\u001b[32m    522\u001b[39m \u001b[38;5;28mself\u001b[39m._pos += \u001b[38;5;28mlen\u001b[39m(uncompress)\n\u001b[32m    523\u001b[39m \u001b[38;5;28;01mreturn\u001b[39;00m uncompress\n",
      "\u001b[36mFile \u001b[39m\u001b[32m~/anaconda3/envs/STS/lib/python3.11/gzip.py:526\u001b[39m, in \u001b[36m_GzipReader._add_read_data\u001b[39m\u001b[34m(self, data)\u001b[39m\n\u001b[32m    525\u001b[39m \u001b[38;5;28;01mdef\u001b[39;00m\u001b[38;5;250m \u001b[39m\u001b[34m_add_read_data\u001b[39m(\u001b[38;5;28mself\u001b[39m, data):\n\u001b[32m--> \u001b[39m\u001b[32m526\u001b[39m     \u001b[38;5;28mself\u001b[39m._crc = zlib.crc32(data, \u001b[38;5;28mself\u001b[39m._crc)\n\u001b[32m    527\u001b[39m     \u001b[38;5;28mself\u001b[39m._stream_size = \u001b[38;5;28mself\u001b[39m._stream_size + \u001b[38;5;28mlen\u001b[39m(data)\n",
      "\u001b[31mKeyboardInterrupt\u001b[39m: "
     ]
    }
   ],
   "source": [
    "ids = [\"01\",\"02\",\"03\",\"04\",\"05\",\"06\",\"07\",\"08\",\"09\",\"10\",\"11\",\"12\",\"13\",\"14\",\"15\",\"16\",\"17\",\"18\",\"19\",\"20\",\"21\",\"22\",\"23\",\"24\",\"25\",\"26\",\"27\",\"28\",\"29\",\"30\"]\n",
    "\n",
    "for id in ids:\n",
    "\n",
    "    img1_path = img_path + f\"STS25_Train_Labeled_00{id}.nii.gz\"\n",
    "    print(\"------------------\")\n",
    "    print(f\"Checking image {id}:\")\n",
    "    # Read 3D image STS25_Train_Labeled_0005.nii.gz\n",
    "    img1_nii = nib.load(img1_path)\n",
    "    img1_data = img1_nii.get_fdata()\n",
    "\n",
    "    slice = (img1_data.shape[2] // 2) + 50\n",
    "    # print(slice)\n",
    "\n",
    "    print( img1_data.shape, img1_data.dtype)\n",
    "\n",
    "\n",
    "    # Show a middle slice along the z-axis\n",
    "    # plt.imshow(img1_data[:, :, slice], cmap='gray')\n",
    "    # plt.axis('off')\n",
    "    # plt.show()\n",
    "\n",
    "    mask1_path = mask_path + f\"STS25_Train_Labeled_00{id}_Masks.nii.gz\"\n",
    "\n",
    "    mask1_nii = nib.load(mask1_path)\n",
    "    mask1_data = mask1_nii.get_fdata()\n",
    "    print( mask1_data.shape, mask1_data.dtype)\n",
    "    \n",
    "    print(np.unique(img1_data))\n",
    "    print(np.unique(mask1_data))\n",
    "\n",
    "    # Show a middle slice along the z-axis\n",
    "    # plt.imshow(mask1_data[:, :, slice], cmap='gray')\n",
    "    # plt.axis('off')\n",
    "    # plt.show()"
   ]
  },
  {
   "cell_type": "code",
   "execution_count": null,
   "id": "5e227341",
   "metadata": {},
   "outputs": [
    {
     "name": "stdout",
     "output_type": "stream",
     "text": [
      "[-1000.  -999.  -998. ...  3080.  3083.  3095.]\n",
      "[0. 1. 2. 4. 5. 7. 8. 9.]\n"
     ]
    }
   ],
   "source": [
    "# print unique values of mask1_data\n"
   ]
  }
 ],
 "metadata": {
  "kernelspec": {
   "display_name": "base",
   "language": "python",
   "name": "python3"
  },
  "language_info": {
   "codemirror_mode": {
    "name": "ipython",
    "version": 3
   },
   "file_extension": ".py",
   "mimetype": "text/x-python",
   "name": "python",
   "nbconvert_exporter": "python",
   "pygments_lexer": "ipython3",
   "version": "3.12.9"
  }
 },
 "nbformat": 4,
 "nbformat_minor": 5
}
